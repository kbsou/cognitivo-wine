{
 "cells": [
  {
   "cell_type": "markdown",
   "metadata": {},
   "source": [
    "## Qualidade e limpeza dos Dados\n",
    "\n",
    "Como primeiro passo, vamos verificar o formato e a qualidade dos dados para modelagem."
   ]
  },
  {
   "cell_type": "code",
   "execution_count": 1,
   "metadata": {},
   "outputs": [
    {
     "name": "stdout",
     "output_type": "stream",
     "text": [
      "6497 winequality.csv\r\n"
     ]
    }
   ],
   "source": [
    "# Quantidade de Linhas\n",
    "!wc -l winequality.csv"
   ]
  },
  {
   "cell_type": "code",
   "execution_count": 2,
   "metadata": {},
   "outputs": [
    {
     "name": "stdout",
     "output_type": "stream",
     "text": [
      "type;fixed acidity;volatile acidity;citric acid;residual sugar;chlorides;free sulfur dioxide;total sulfur dioxide;density;pH;sulphates;alcohol;quality\r",
      "\r\n",
      "White;7;0.27;0.36;20.7;0.045;45;170;1.001;3;0.45;8.8;6\r",
      "\r\n"
     ]
    }
   ],
   "source": [
    "!head -n 2 winequality.csv"
   ]
  },
  {
   "cell_type": "markdown",
   "metadata": {},
   "source": [
    "Aparentemente, os dados estão utilizando '.' como separador de decimal e ';' como separador de campo"
   ]
  },
  {
   "cell_type": "code",
   "execution_count": 3,
   "metadata": {},
   "outputs": [],
   "source": [
    "import pandas as pd"
   ]
  },
  {
   "cell_type": "code",
   "execution_count": 4,
   "metadata": {},
   "outputs": [],
   "source": [
    "data = pd.read_csv('winequality.csv', sep = ';')"
   ]
  },
  {
   "cell_type": "markdown",
   "metadata": {},
   "source": [
    "Vamos verificar os Tipos dos dados"
   ]
  },
  {
   "cell_type": "code",
   "execution_count": 5,
   "metadata": {},
   "outputs": [
    {
     "data": {
      "text/plain": [
       "[('type', 'object'),\n",
       " ('fixed acidity', 'float64'),\n",
       " ('volatile acidity', 'float64'),\n",
       " ('citric acid', 'float64'),\n",
       " ('residual sugar', 'float64'),\n",
       " ('chlorides', 'float64'),\n",
       " ('free sulfur dioxide', 'float64'),\n",
       " ('total sulfur dioxide', 'float64'),\n",
       " ('density', 'float64'),\n",
       " ('pH', 'float64'),\n",
       " ('sulphates', 'float64'),\n",
       " ('alcohol', 'object'),\n",
       " ('quality', 'int64')]"
      ]
     },
     "execution_count": 5,
     "metadata": {},
     "output_type": "execute_result"
    }
   ],
   "source": [
    "[(col, str(data[col].dtype)) for col in data.columns]"
   ]
  },
  {
   "cell_type": "markdown",
   "metadata": {},
   "source": [
    "A coluna `alcohol` estranhamente está com o tipo de dados `object`, o que me faz suspeitar que o pandas esteja interpretando o campo como uma string. Vamos investigar um pouco"
   ]
  },
  {
   "cell_type": "code",
   "execution_count": 6,
   "metadata": {},
   "outputs": [
    {
     "data": {
      "text/plain": [
       "array(['8.8', '9.5', '10.1', '9.9', '9.6', '11', '12', '9.7', '10.8',\n",
       "       '12.4', '11.4', '12.8', '11.3', '10.5', '9.3', '10', '10.4', '11.6',\n",
       "       '12.3', '10.2', '9', '11.2', '8.6', '9.4', '9.8', '11.7', '10.9',\n",
       "       '9.1', '8.9', '10.3', '12.6', '10.7', '12.7', '10.6', '9.2', '8.7',\n",
       "       '11.5', '11.8', '12.1', '11.1', '8.5', '12.5', '11.9', '12.2',\n",
       "       '12.9', '13.9', '14', '13.5', '13.3', '13.2', '13.7', '13.4', '13',\n",
       "       '8', '13.1', '8.0', '13.6', '8.4', '14.2', '11.94',\n",
       "       '128.933.333.333.333', '114.666.666.666.667', '10.98',\n",
       "       '100.333.333.333.333', '114.333.333.333.333', '105.333.333.333.333',\n",
       "       '953.333.333.333.333', '109.333.333.333.333', '113.666.666.666.667',\n",
       "       '113.333.333.333.333', '110.666.666.666.667', '973.333.333.333.333',\n",
       "       '11.05', '9.75', '11.35', '9.55', '10.55', '11.45', '14.05',\n",
       "       '123.333.333.333.333', '12.75', '13.8', '12.15', '13.05',\n",
       "       '112.666.666.666.667', '105.666.666.666.667', '117.333.333.333.333',\n",
       "       '11.75', '10.65', '109.666.666.666.667', '101.333.333.333.333',\n",
       "       '10.15', '104.666.666.666.667', '116.333.333.333.333', '12.25',\n",
       "       '11.85', '11.65', '13.55', '131.333.333.333.333', '11.95',\n",
       "       '120.666.666.666.667', '11.55', '963.333.333.333.333', '12.05',\n",
       "       '14.9', '956.666.666.666.667', '135.666.666.666.667', '9.95',\n",
       "       '923.333.333.333.333', '9.25', '9.05', '10.75'], dtype=object)"
      ]
     },
     "execution_count": 6,
     "metadata": {},
     "output_type": "execute_result"
    }
   ],
   "source": [
    "data['alcohol'].unique()"
   ]
  },
  {
   "cell_type": "markdown",
   "metadata": {},
   "source": [
    "A variável parece conter valores estranhos, como '135.666.666.666.667'. Nesse caso, suspeitaria de algum problema no processo de criação da base e questionaria sobre o problema. No entanto, vou verificar se é possível prosseguir com a modelagem com estes dados.\n",
    "\n",
    "Temos tres possíveis soluções:\n",
    "\n",
    "1. Não utilizar a variável `alcohol`\n",
    "2. Substituir os valores estranhos por valores 'missing'\n",
    "3. Excluir as linhas nas quais estes valores ocorrem.\n",
    "\n",
    "A primeira solução me parece desnecessária, pois implicaria na não utilização de uma variável potencialmente importante, porém dependendo do tamanho do 'estrago', pode ser a mais indicada. \n",
    "\n",
    "Já a segunda, por envolver valores missings, poderia nos causar problemas com certos tipos de modelos e nos obrigaria utilizar algum tipo de imputação. \n",
    "\n",
    "A terceira solução implicaria na perda de alguns dados, o que pode ser ruim dependendo da quantidade dos mesmos.\n",
    "\n",
    "Para decidir entre as soluções, vamos ver quantas observações apresentam tais valores estranhos.\n",
    "\n",
    "Creio que a maneira mais fácil de fazer isso, seja através da utilização de expressões regulares e o método `contains` do Pandas."
   ]
  },
  {
   "cell_type": "code",
   "execution_count": 7,
   "metadata": {},
   "outputs": [],
   "source": [
    "probl = data[data['alcohol'].str.contains(r'\\d{3}\\.\\d{3}\\.\\d{3}\\.\\d{3}')]"
   ]
  },
  {
   "cell_type": "code",
   "execution_count": 8,
   "metadata": {},
   "outputs": [
    {
     "data": {
      "text/plain": [
       "array(['128.933.333.333.333', '114.666.666.666.667', '100.333.333.333.333',\n",
       "       '114.333.333.333.333', '105.333.333.333.333', '953.333.333.333.333',\n",
       "       '109.333.333.333.333', '113.666.666.666.667', '113.333.333.333.333',\n",
       "       '110.666.666.666.667', '973.333.333.333.333', '123.333.333.333.333',\n",
       "       '112.666.666.666.667', '105.666.666.666.667', '117.333.333.333.333',\n",
       "       '109.666.666.666.667', '101.333.333.333.333', '104.666.666.666.667',\n",
       "       '116.333.333.333.333', '131.333.333.333.333', '120.666.666.666.667',\n",
       "       '963.333.333.333.333', '956.666.666.666.667', '135.666.666.666.667',\n",
       "       '923.333.333.333.333'], dtype=object)"
      ]
     },
     "execution_count": 8,
     "metadata": {},
     "output_type": "execute_result"
    }
   ],
   "source": [
    "probl['alcohol'].unique()"
   ]
  },
  {
   "cell_type": "code",
   "execution_count": 9,
   "metadata": {},
   "outputs": [
    {
     "data": {
      "text/plain": [
       "40"
      ]
     },
     "execution_count": 9,
     "metadata": {},
     "output_type": "execute_result"
    }
   ],
   "source": [
    "len(probl)"
   ]
  },
  {
   "cell_type": "markdown",
   "metadata": {},
   "source": [
    "Como se tratam de apenas 40 observações de 6000+, creio que excluí-las não afetará a nossa análise."
   ]
  },
  {
   "cell_type": "code",
   "execution_count": 10,
   "metadata": {},
   "outputs": [],
   "source": [
    "clean_data = data[~data['alcohol'].str.contains(r'\\d{3}\\.\\d{3}\\.\\d{3}\\.\\d{3}')].copy()"
   ]
  },
  {
   "cell_type": "code",
   "execution_count": 11,
   "metadata": {},
   "outputs": [],
   "source": [
    "assert(len(clean_data) + len(probl) == len(data))"
   ]
  },
  {
   "cell_type": "code",
   "execution_count": 12,
   "metadata": {},
   "outputs": [],
   "source": [
    "clean_data['alcohol'] = clean_data['alcohol'].astype('float64')"
   ]
  },
  {
   "cell_type": "code",
   "execution_count": 13,
   "metadata": {},
   "outputs": [],
   "source": [
    "pd.options.display.float_format = '{:,.3f}'.format"
   ]
  },
  {
   "cell_type": "code",
   "execution_count": 14,
   "metadata": {},
   "outputs": [
    {
     "data": {
      "text/html": [
       "<div>\n",
       "<style scoped>\n",
       "    .dataframe tbody tr th:only-of-type {\n",
       "        vertical-align: middle;\n",
       "    }\n",
       "\n",
       "    .dataframe tbody tr th {\n",
       "        vertical-align: top;\n",
       "    }\n",
       "\n",
       "    .dataframe thead th {\n",
       "        text-align: right;\n",
       "    }\n",
       "</style>\n",
       "<table border=\"1\" class=\"dataframe\">\n",
       "  <thead>\n",
       "    <tr style=\"text-align: right;\">\n",
       "      <th></th>\n",
       "      <th>fixed acidity</th>\n",
       "      <th>volatile acidity</th>\n",
       "      <th>citric acid</th>\n",
       "      <th>residual sugar</th>\n",
       "      <th>chlorides</th>\n",
       "      <th>free sulfur dioxide</th>\n",
       "      <th>total sulfur dioxide</th>\n",
       "      <th>density</th>\n",
       "      <th>pH</th>\n",
       "      <th>sulphates</th>\n",
       "      <th>alcohol</th>\n",
       "      <th>quality</th>\n",
       "    </tr>\n",
       "  </thead>\n",
       "  <tbody>\n",
       "    <tr>\n",
       "      <th>count</th>\n",
       "      <td>6,457.000</td>\n",
       "      <td>6,457.000</td>\n",
       "      <td>6,457.000</td>\n",
       "      <td>6,457.000</td>\n",
       "      <td>6,457.000</td>\n",
       "      <td>6,457.000</td>\n",
       "      <td>6,457.000</td>\n",
       "      <td>6,457.000</td>\n",
       "      <td>6,457.000</td>\n",
       "      <td>6,457.000</td>\n",
       "      <td>6,457.000</td>\n",
       "      <td>6,457.000</td>\n",
       "    </tr>\n",
       "    <tr>\n",
       "      <th>mean</th>\n",
       "      <td>7.219</td>\n",
       "      <td>0.340</td>\n",
       "      <td>0.319</td>\n",
       "      <td>5.446</td>\n",
       "      <td>0.056</td>\n",
       "      <td>30.496</td>\n",
       "      <td>115.691</td>\n",
       "      <td>1.715</td>\n",
       "      <td>3.219</td>\n",
       "      <td>0.531</td>\n",
       "      <td>10.489</td>\n",
       "      <td>5.817</td>\n",
       "    </tr>\n",
       "    <tr>\n",
       "      <th>std</th>\n",
       "      <td>1.295</td>\n",
       "      <td>0.165</td>\n",
       "      <td>0.146</td>\n",
       "      <td>4.764</td>\n",
       "      <td>0.035</td>\n",
       "      <td>17.757</td>\n",
       "      <td>56.595</td>\n",
       "      <td>7.659</td>\n",
       "      <td>0.161</td>\n",
       "      <td>0.149</td>\n",
       "      <td>1.193</td>\n",
       "      <td>0.874</td>\n",
       "    </tr>\n",
       "    <tr>\n",
       "      <th>min</th>\n",
       "      <td>3.800</td>\n",
       "      <td>0.080</td>\n",
       "      <td>0.000</td>\n",
       "      <td>0.600</td>\n",
       "      <td>0.009</td>\n",
       "      <td>1.000</td>\n",
       "      <td>6.000</td>\n",
       "      <td>0.987</td>\n",
       "      <td>2.720</td>\n",
       "      <td>0.220</td>\n",
       "      <td>8.000</td>\n",
       "      <td>3.000</td>\n",
       "    </tr>\n",
       "    <tr>\n",
       "      <th>25%</th>\n",
       "      <td>6.400</td>\n",
       "      <td>0.230</td>\n",
       "      <td>0.250</td>\n",
       "      <td>1.800</td>\n",
       "      <td>0.038</td>\n",
       "      <td>17.000</td>\n",
       "      <td>77.000</td>\n",
       "      <td>0.992</td>\n",
       "      <td>3.110</td>\n",
       "      <td>0.430</td>\n",
       "      <td>9.500</td>\n",
       "      <td>5.000</td>\n",
       "    </tr>\n",
       "    <tr>\n",
       "      <th>50%</th>\n",
       "      <td>7.000</td>\n",
       "      <td>0.290</td>\n",
       "      <td>0.310</td>\n",
       "      <td>3.000</td>\n",
       "      <td>0.047</td>\n",
       "      <td>29.000</td>\n",
       "      <td>118.000</td>\n",
       "      <td>0.995</td>\n",
       "      <td>3.210</td>\n",
       "      <td>0.510</td>\n",
       "      <td>10.300</td>\n",
       "      <td>6.000</td>\n",
       "    </tr>\n",
       "    <tr>\n",
       "      <th>75%</th>\n",
       "      <td>7.700</td>\n",
       "      <td>0.400</td>\n",
       "      <td>0.390</td>\n",
       "      <td>8.100</td>\n",
       "      <td>0.065</td>\n",
       "      <td>41.000</td>\n",
       "      <td>156.000</td>\n",
       "      <td>0.997</td>\n",
       "      <td>3.320</td>\n",
       "      <td>0.600</td>\n",
       "      <td>11.300</td>\n",
       "      <td>6.000</td>\n",
       "    </tr>\n",
       "    <tr>\n",
       "      <th>max</th>\n",
       "      <td>15.900</td>\n",
       "      <td>1.580</td>\n",
       "      <td>1.660</td>\n",
       "      <td>65.800</td>\n",
       "      <td>0.611</td>\n",
       "      <td>289.000</td>\n",
       "      <td>440.000</td>\n",
       "      <td>103.898</td>\n",
       "      <td>4.010</td>\n",
       "      <td>2.000</td>\n",
       "      <td>14.900</td>\n",
       "      <td>9.000</td>\n",
       "    </tr>\n",
       "  </tbody>\n",
       "</table>\n",
       "</div>"
      ],
      "text/plain": [
       "       fixed acidity  volatile acidity  citric acid  residual sugar  \\\n",
       "count      6,457.000         6,457.000    6,457.000       6,457.000   \n",
       "mean           7.219             0.340        0.319           5.446   \n",
       "std            1.295             0.165        0.146           4.764   \n",
       "min            3.800             0.080        0.000           0.600   \n",
       "25%            6.400             0.230        0.250           1.800   \n",
       "50%            7.000             0.290        0.310           3.000   \n",
       "75%            7.700             0.400        0.390           8.100   \n",
       "max           15.900             1.580        1.660          65.800   \n",
       "\n",
       "       chlorides  free sulfur dioxide  total sulfur dioxide   density  \\\n",
       "count  6,457.000            6,457.000             6,457.000 6,457.000   \n",
       "mean       0.056               30.496               115.691     1.715   \n",
       "std        0.035               17.757                56.595     7.659   \n",
       "min        0.009                1.000                 6.000     0.987   \n",
       "25%        0.038               17.000                77.000     0.992   \n",
       "50%        0.047               29.000               118.000     0.995   \n",
       "75%        0.065               41.000               156.000     0.997   \n",
       "max        0.611              289.000               440.000   103.898   \n",
       "\n",
       "             pH  sulphates   alcohol   quality  \n",
       "count 6,457.000  6,457.000 6,457.000 6,457.000  \n",
       "mean      3.219      0.531    10.489     5.817  \n",
       "std       0.161      0.149     1.193     0.874  \n",
       "min       2.720      0.220     8.000     3.000  \n",
       "25%       3.110      0.430     9.500     5.000  \n",
       "50%       3.210      0.510    10.300     6.000  \n",
       "75%       3.320      0.600    11.300     6.000  \n",
       "max       4.010      2.000    14.900     9.000  "
      ]
     },
     "execution_count": 14,
     "metadata": {},
     "output_type": "execute_result"
    }
   ],
   "source": [
    "clean_data.describe()"
   ]
  },
  {
   "cell_type": "markdown",
   "metadata": {},
   "source": [
    "### Dados Missing\n",
    "\n",
    "Agora podemos verificar se existem variáveis com valores missing nas nossas observações."
   ]
  },
  {
   "cell_type": "code",
   "execution_count": 15,
   "metadata": {},
   "outputs": [
    {
     "data": {
      "text/plain": [
       "0"
      ]
     },
     "execution_count": 15,
     "metadata": {},
     "output_type": "execute_result"
    }
   ],
   "source": [
    "clean_data.isnull().sum().sum()"
   ]
  },
  {
   "cell_type": "markdown",
   "metadata": {},
   "source": [
    "Nossos não apresentam nenhuma observação com valores nulos, logo não é necessário tratamento."
   ]
  },
  {
   "cell_type": "code",
   "execution_count": 16,
   "metadata": {},
   "outputs": [],
   "source": [
    "# Salvando os dados para uso posterior\n",
    "\n",
    "clean_data.to_csv('winequality_clean.csv')"
   ]
  }
 ],
 "metadata": {
  "kernelspec": {
   "display_name": "Python 3",
   "language": "python",
   "name": "python3"
  },
  "language_info": {
   "codemirror_mode": {
    "name": "ipython",
    "version": 3
   },
   "file_extension": ".py",
   "mimetype": "text/x-python",
   "name": "python",
   "nbconvert_exporter": "python",
   "pygments_lexer": "ipython3",
   "version": "3.6.6"
  }
 },
 "nbformat": 4,
 "nbformat_minor": 2
}
